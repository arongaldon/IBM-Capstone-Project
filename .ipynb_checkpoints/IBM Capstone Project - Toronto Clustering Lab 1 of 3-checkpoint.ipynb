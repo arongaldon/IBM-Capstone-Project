{
 "cells": [
  {
   "cell_type": "markdown",
   "metadata": {},
   "source": [
    "# Toronto Clustering Lab\n",
    "## Submission for question 1 of 3\n"
   ]
  },
  {
   "cell_type": "markdown",
   "metadata": {},
   "source": [
    "1) Install and import pandas for web scaping."
   ]
  },
  {
   "cell_type": "code",
   "execution_count": 1,
   "metadata": {},
   "outputs": [
    {
     "name": "stdout",
     "output_type": "stream",
     "text": [
      "Requirement already up-to-date: lxml in /opt/home_local/lib/python3.8/site-packages (4.6.2)\n",
      "Requirement already up-to-date: html5lib in /opt/home_local/lib/python3.8/site-packages (1.1)\n",
      "Requirement already up-to-date: beautifulsoup4 in /opt/home_local/lib/python3.8/site-packages (4.9.3)\n",
      "Requirement already satisfied, skipping upgrade: six>=1.9 in /usr/lib/python3/dist-packages (from html5lib) (1.14.0)\n",
      "Requirement already satisfied, skipping upgrade: webencodings in /opt/home_local/lib/python3.8/site-packages (from html5lib) (0.5.1)\n",
      "Requirement already satisfied, skipping upgrade: soupsieve>1.2; python_version >= \"3.0\" in /opt/home_local/lib/python3.8/site-packages (from beautifulsoup4) (2.1)\n",
      "Web scraping with pandas installed and imported successfully.\n"
     ]
    }
   ],
   "source": [
    "!pip install -U lxml html5lib beautifulsoup4\n",
    "import pandas as pd\n",
    "print(\"Web scraping with pandas installed and imported successfully.\")"
   ]
  },
  {
   "cell_type": "markdown",
   "metadata": {},
   "source": [
    "2) Scrap the postal codes table."
   ]
  },
  {
   "cell_type": "code",
   "execution_count": 2,
   "metadata": {},
   "outputs": [
    {
     "name": "stdout",
     "output_type": "stream",
     "text": [
      "Scraped 180 rows successfully.\n"
     ]
    }
   ],
   "source": [
    "header = [\"Postal Code\", \"Borough\", \"Neighbourhood\"]\n",
    "canada_postal_codes = pd.DataFrame()\n",
    "canada_postal_codes = pd.read_html(\"https://en.wikipedia.org/wiki/List_of_postal_codes_of_Canada:_M\")[0][header]\n",
    "print(\"Scraped \" + str(len(canada_postal_codes)) + \" rows successfully.\")"
   ]
  },
  {
   "cell_type": "markdown",
   "metadata": {},
   "source": [
    "3) Rename first column as \"PostalCode\" according to the statement."
   ]
  },
  {
   "cell_type": "code",
   "execution_count": 3,
   "metadata": {},
   "outputs": [],
   "source": [
    "canada_postal_codes.rename(columns = {\"Postal Code\": \"PostalCode\"}, inplace = True)"
   ]
  },
  {
   "cell_type": "markdown",
   "metadata": {},
   "source": [
    "4) Remove rows having a \"Not assigned\" borough.\n"
   ]
  },
  {
   "cell_type": "code",
   "execution_count": 4,
   "metadata": {},
   "outputs": [],
   "source": [
    "canada_postal_codes.drop(canada_postal_codes[canada_postal_codes.Borough == \"Not assigned\"].index, inplace = True)"
   ]
  },
  {
   "cell_type": "markdown",
   "metadata": {},
   "source": [
    "5) Not assigned neighbourhood will show the same as in borough."
   ]
  },
  {
   "cell_type": "code",
   "execution_count": 5,
   "metadata": {},
   "outputs": [],
   "source": [
    "canada_postal_codes.loc[(canada_postal_codes.Neighbourhood == \"Not assigned\"), 'Neighbourhood'] = canada_postal_codes.Borough"
   ]
  },
  {
   "cell_type": "markdown",
   "metadata": {},
   "source": [
    "\n",
    "6) Group by \"PostalCode\", and get duplicated \"Neighbourhood\" items concatenated."
   ]
  },
  {
   "cell_type": "code",
   "execution_count": 6,
   "metadata": {},
   "outputs": [
    {
     "data": {
      "text/plain": [
       "<pandas.core.groupby.generic.DataFrameGroupBy object at 0x7fe23445c6a0>"
      ]
     },
     "execution_count": 6,
     "metadata": {},
     "output_type": "execute_result"
    }
   ],
   "source": [
    "canada_postal_codes.groupby([\"PostalCode\"])"
   ]
  },
  {
   "cell_type": "markdown",
   "metadata": {},
   "source": [
    "7) Show the number of rows in my resulting dataframe."
   ]
  },
  {
   "cell_type": "code",
   "execution_count": 7,
   "metadata": {},
   "outputs": [
    {
     "name": "stdout",
     "output_type": "stream",
     "text": [
      "103\n"
     ]
    }
   ],
   "source": [
    "number_of_rows = canada_postal_codes.shape[0]\n",
    "print(number_of_rows)"
   ]
  },
  {
   "cell_type": "code",
   "execution_count": null,
   "metadata": {},
   "outputs": [],
   "source": []
  }
 ],
 "metadata": {
  "kernelspec": {
   "display_name": "Python 3",
   "language": "python",
   "name": "python3"
  },
  "language_info": {
   "codemirror_mode": {
    "name": "ipython",
    "version": 3
   },
   "file_extension": ".py",
   "mimetype": "text/x-python",
   "name": "python",
   "nbconvert_exporter": "python",
   "pygments_lexer": "ipython3",
   "version": "3.8.5"
  }
 },
 "nbformat": 4,
 "nbformat_minor": 4
}
